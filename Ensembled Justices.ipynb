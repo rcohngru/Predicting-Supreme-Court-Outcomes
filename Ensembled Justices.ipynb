{
 "cells": [
  {
   "cell_type": "code",
   "execution_count": 1,
   "metadata": {},
   "outputs": [],
   "source": [
    "import pandas as pd\n",
    "import numpy as np\n",
    "import matplotlib.pyplot as plt\n",
    "import warnings\n",
    "import pprint\n",
    "\n",
    "\n",
    "from imblearn.pipeline import Pipeline, make_pipeline\n",
    "from sklearn.feature_extraction.text import TfidfVectorizer\n",
    "from sklearn.model_selection import train_test_split, GridSearchCV, KFold\n",
    "from sklearn.metrics import accuracy_score, f1_score, precision_score, recall_score\n",
    "from imblearn.under_sampling import RandomUnderSampler\n",
    "\n",
    "from sklearn.linear_model import LogisticRegression\n",
    "from sklearn.ensemble import RandomForestClassifier, GradientBoostingClassifier\n",
    "from sklearn.svm import SVC\n",
    "\n",
    "from JusticeModel import JusticeModel\n",
    "\n",
    "plt.style.use('fivethirtyeight')\n",
    "warnings.filterwarnings('ignore')\n"
   ]
  },
  {
   "cell_type": "markdown",
   "metadata": {},
   "source": [
    "## Try Predicting by Case"
   ]
  },
  {
   "cell_type": "code",
   "execution_count": 2,
   "metadata": {},
   "outputs": [
    {
     "name": "stdout",
     "output_type": "stream",
     "text": [
      "Model trained successfully.\n",
      "Model trained successfully.\n",
      "Model trained successfully.\n",
      "Model trained successfully.\n",
      "Model trained successfully.\n",
      "Model trained successfully.\n",
      "Model trained successfully.\n",
      "Model trained successfully.\n",
      "Model trained successfully.\n"
     ]
    }
   ],
   "source": [
    "justices = ['alito', 'breyer', 'kagan', 'kavanaugh', 'ginsburg', 'gorsuch', 'roberts', 'sotomayor', 'thomas']\n",
    "justice_models = []\n",
    "for justice in justices:\n",
    "    model = SVC(degree=2, \n",
    "                  gamma='auto', \n",
    "                  kernel='poly')\n",
    "    \n",
    "    jm = JusticeModel(justice, mode='crossval', model=model)\n",
    "    jm.fit(balance_method=None)\n",
    "    justice_models.append(jm)"
   ]
  },
  {
   "cell_type": "code",
   "execution_count": null,
   "metadata": {},
   "outputs": [],
   "source": []
  },
  {
   "cell_type": "code",
   "execution_count": 3,
   "metadata": {},
   "outputs": [],
   "source": [
    "true_votes = []\n",
    "pred_votes = []\n",
    "\n",
    "for justice, model in zip(justices, justice_models):\n",
    "    fpath = 'data/test/%s.csv' % justice.capitalize()\n",
    "    test_data = pd.read_csv(fpath)\n",
    "    X = test_data['cleanText'].fillna(' ').to_numpy()\n",
    "    y_true = test_data['vote'].to_numpy()\n",
    "    \n",
    "    y_pred = model.predict(X)\n",
    "    \n",
    "    true_votes.append(y_true)\n",
    "    pred_votes.append(y_pred)"
   ]
  },
  {
   "cell_type": "code",
   "execution_count": 4,
   "metadata": {},
   "outputs": [
    {
     "data": {
      "text/plain": [
       "[array([0, 1, 1, 1, 1, 1, 1, 0, 1, 1]),\n",
       " array([1, 0, 1, 0, 1, 0, 1, 1, 1, 1]),\n",
       " array([1, 0, 1, 0, 1, 0, 1, 1, 1, 1]),\n",
       " array([0, 0, 1, 1, 1, 1, 1, 0, 1, 1]),\n",
       " array([1, 0, 1, 0, 1, 0, 0, 0, 1, 1]),\n",
       " array([0, 1, 0, 0, 1, 1, 1, 1, 1, 1]),\n",
       " array([0, 1, 1, 1, 1, 1, 1, 0, 1, 1]),\n",
       " array([1, 0, 1, 0, 1, 0, 0, 1, 1, 1]),\n",
       " array([0, 1, 1, 1, 1, 1, 1, 0, 1, 1])]"
      ]
     },
     "execution_count": 4,
     "metadata": {},
     "output_type": "execute_result"
    }
   ],
   "source": [
    "true_votes"
   ]
  },
  {
   "cell_type": "code",
   "execution_count": 5,
   "metadata": {},
   "outputs": [
    {
     "data": {
      "text/plain": [
       "[array([1, 1, 1, 1, 1, 1, 1, 1, 1, 1]),\n",
       " array([1, 1, 1, 1, 1, 1, 1, 1, 1, 1]),\n",
       " array([1, 1, 1, 1, 1, 1, 1, 1, 1, 1]),\n",
       " array([1, 1, 1, 1, 1, 1, 1, 1, 1, 1]),\n",
       " array([1, 1, 1, 1, 1, 1, 1, 1, 1, 1]),\n",
       " array([1, 1, 1, 1, 1, 1, 1, 1, 1, 1]),\n",
       " array([1, 1, 1, 1, 1, 1, 1, 1, 1, 1]),\n",
       " array([1, 1, 1, 1, 1, 1, 1, 1, 1, 1]),\n",
       " array([1, 1, 1, 1, 1, 1, 1, 1, 1, 1])]"
      ]
     },
     "execution_count": 5,
     "metadata": {},
     "output_type": "execute_result"
    }
   ],
   "source": [
    "pred_votes"
   ]
  },
  {
   "cell_type": "code",
   "execution_count": null,
   "metadata": {},
   "outputs": [],
   "source": []
  },
  {
   "cell_type": "code",
   "execution_count": 13,
   "metadata": {},
   "outputs": [
    {
     "data": {
      "text/plain": [
       "1"
      ]
     },
     "execution_count": 13,
     "metadata": {},
     "output_type": "execute_result"
    }
   ],
   "source": [
    "pd.read_csv('data/test/Alito.csv').loc[1]['vote']"
   ]
  },
  {
   "cell_type": "code",
   "execution_count": 14,
   "metadata": {},
   "outputs": [
    {
     "data": {
      "text/plain": [
       "1"
      ]
     },
     "execution_count": 14,
     "metadata": {},
     "output_type": "execute_result"
    }
   ],
   "source": [
    "pd.read_csv('data/test/Breyer.csv').loc[1]['vote']"
   ]
  },
  {
   "cell_type": "code",
   "execution_count": 15,
   "metadata": {},
   "outputs": [
    {
     "data": {
      "text/plain": [
       "1"
      ]
     },
     "execution_count": 15,
     "metadata": {},
     "output_type": "execute_result"
    }
   ],
   "source": [
    "pd.read_csv('data/test/Gorsuch.csv').loc[1]['vote']"
   ]
  },
  {
   "cell_type": "code",
   "execution_count": null,
   "metadata": {},
   "outputs": [],
   "source": []
  }
 ],
 "metadata": {
  "kernelspec": {
   "display_name": "Python 3",
   "language": "python",
   "name": "python3"
  },
  "language_info": {
   "codemirror_mode": {
    "name": "ipython",
    "version": 3
   },
   "file_extension": ".py",
   "mimetype": "text/x-python",
   "name": "python",
   "nbconvert_exporter": "python",
   "pygments_lexer": "ipython3",
   "version": "3.7.4"
  }
 },
 "nbformat": 4,
 "nbformat_minor": 2
}
